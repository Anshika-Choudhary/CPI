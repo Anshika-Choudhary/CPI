{
  "nbformat": 4,
  "nbformat_minor": 0,
  "metadata": {
    "colab": {
      "provenance": [],
      "mount_file_id": "1ESaPF6Rm-fB_JaGVO5O6g2YLOWLlEcdx",
      "authorship_tag": "ABX9TyOU4TVKrCxqVEA0yB2XBfl/",
      "include_colab_link": true
    },
    "kernelspec": {
      "name": "python3",
      "display_name": "Python 3"
    },
    "language_info": {
      "name": "python"
    },
    "gpuClass": "standard"
  },
  "cells": [
    {
      "cell_type": "markdown",
      "metadata": {
        "id": "view-in-github",
        "colab_type": "text"
      },
      "source": [
        "<a href=\"https://colab.research.google.com/github/Anshika-Choudhary/CPI/blob/main/Consumer_Price_Index.ipynb\" target=\"_parent\"><img src=\"https://colab.research.google.com/assets/colab-badge.svg\" alt=\"Open In Colab\"/></a>"
      ]
    },
    {
      "cell_type": "markdown",
      "source": [
        "INSTALL NECESSARY LIBRARIES\n",
        "\n"
      ],
      "metadata": {
        "id": "YVBf2fdmlt4A"
      }
    },
    {
      "cell_type": "code",
      "source": [
        "pip install dash"
      ],
      "metadata": {
        "colab": {
          "base_uri": "https://localhost:8080/"
        },
        "id": "Ro1fDKnBw37u",
        "outputId": "af1a3e47-4e11-4e81-a817-8411df909883"
      },
      "execution_count": 3,
      "outputs": [
        {
          "output_type": "stream",
          "name": "stdout",
          "text": [
            "Looking in indexes: https://pypi.org/simple, https://us-python.pkg.dev/colab-wheels/public/simple/\n",
            "Collecting dash\n",
            "  Downloading dash-2.8.1-py3-none-any.whl (9.9 MB)\n",
            "\u001b[2K     \u001b[90m━━━━━━━━━━━━━━━━━━━━━━━━━━━━━━━━━━━━━━━━\u001b[0m \u001b[32m9.9/9.9 MB\u001b[0m \u001b[31m43.3 MB/s\u001b[0m eta \u001b[36m0:00:00\u001b[0m\n",
            "\u001b[?25hCollecting dash-table==5.0.0\n",
            "  Downloading dash_table-5.0.0-py3-none-any.whl (3.9 kB)\n",
            "Requirement already satisfied: plotly>=5.0.0 in /usr/local/lib/python3.8/dist-packages (from dash) (5.5.0)\n",
            "Requirement already satisfied: Flask>=1.0.4 in /usr/local/lib/python3.8/dist-packages (from dash) (2.2.3)\n",
            "Collecting dash-html-components==2.0.0\n",
            "  Downloading dash_html_components-2.0.0-py3-none-any.whl (4.1 kB)\n",
            "Collecting dash-core-components==2.0.0\n",
            "  Downloading dash_core_components-2.0.0-py3-none-any.whl (3.8 kB)\n",
            "Requirement already satisfied: itsdangerous>=2.0 in /usr/local/lib/python3.8/dist-packages (from Flask>=1.0.4->dash) (2.1.2)\n",
            "Requirement already satisfied: click>=8.0 in /usr/local/lib/python3.8/dist-packages (from Flask>=1.0.4->dash) (8.1.3)\n",
            "Requirement already satisfied: Jinja2>=3.0 in /usr/local/lib/python3.8/dist-packages (from Flask>=1.0.4->dash) (3.1.2)\n",
            "Requirement already satisfied: importlib-metadata>=3.6.0 in /usr/local/lib/python3.8/dist-packages (from Flask>=1.0.4->dash) (6.0.0)\n",
            "Requirement already satisfied: Werkzeug>=2.2.2 in /usr/local/lib/python3.8/dist-packages (from Flask>=1.0.4->dash) (2.2.3)\n",
            "Requirement already satisfied: six in /usr/local/lib/python3.8/dist-packages (from plotly>=5.0.0->dash) (1.15.0)\n",
            "Requirement already satisfied: tenacity>=6.2.0 in /usr/local/lib/python3.8/dist-packages (from plotly>=5.0.0->dash) (8.2.2)\n",
            "Requirement already satisfied: zipp>=0.5 in /usr/local/lib/python3.8/dist-packages (from importlib-metadata>=3.6.0->Flask>=1.0.4->dash) (3.15.0)\n",
            "Requirement already satisfied: MarkupSafe>=2.0 in /usr/local/lib/python3.8/dist-packages (from Jinja2>=3.0->Flask>=1.0.4->dash) (2.1.2)\n",
            "Installing collected packages: dash-table, dash-html-components, dash-core-components, dash\n",
            "Successfully installed dash-2.8.1 dash-core-components-2.0.0 dash-html-components-2.0.0 dash-table-5.0.0\n"
          ]
        }
      ]
    },
    {
      "cell_type": "markdown",
      "source": [
        "IMPORT LIBRARIES"
      ],
      "metadata": {
        "id": "fdb25s9gmL_U"
      }
    },
    {
      "cell_type": "code",
      "source": [
        "import dash\n",
        "import dash_html_components as html\n",
        "import dash_core_components as dcc\n",
        "from dash.dependencies import Input, Output, State\n",
        "import pandas as pd\n",
        "import numpy as np"
      ],
      "metadata": {
        "id": "Q3OCTJbR-6A7",
        "colab": {
          "base_uri": "https://localhost:8080/"
        },
        "outputId": "d670576c-a667-42f1-fe41-97c1b3b09109"
      },
      "execution_count": 4,
      "outputs": [
        {
          "output_type": "stream",
          "name": "stderr",
          "text": [
            "<ipython-input-4-cd0b8341c3e1>:2: UserWarning: \n",
            "The dash_html_components package is deprecated. Please replace\n",
            "`import dash_html_components as html` with `from dash import html`\n",
            "  import dash_html_components as html\n",
            "<ipython-input-4-cd0b8341c3e1>:3: UserWarning: \n",
            "The dash_core_components package is deprecated. Please replace\n",
            "`import dash_core_components as dcc` with `from dash import dcc`\n",
            "  import dash_core_components as dcc\n"
          ]
        }
      ]
    },
    {
      "cell_type": "markdown",
      "source": [
        "IMPORT THE DATASET"
      ],
      "metadata": {
        "id": "r_4aVN6fmVsq"
      }
    },
    {
      "cell_type": "code",
      "source": [
        "data = pd.read_csv('data(saharanpur).csv')"
      ],
      "metadata": {
        "id": "db5PHIICJqQ_"
      },
      "execution_count": 6,
      "outputs": []
    },
    {
      "cell_type": "markdown",
      "source": [
        "DASHBOARD LAYOUT"
      ],
      "metadata": {
        "id": "FKYF2Diamebp"
      }
    },
    {
      "cell_type": "code",
      "source": [
        "\n",
        "# convert the date column to a datetime object\n",
        "data['date'] = pd.to_datetime(data['date'])\n",
        "\n",
        "# create a new column of month using apply and lambda\n",
        "data['Month'] = data['date'].apply(lambda x: x.month)\n",
        "data['Year'] = data['date'].apply(lambda x: x.year)\n",
        "print(data)"
      ],
      "metadata": {
        "id": "-k-f0LLMLr0v",
        "colab": {
          "base_uri": "https://localhost:8080/"
        },
        "outputId": "dd9a5ca7-0fdc-4783-866a-1f33effdc425"
      },
      "execution_count": 7,
      "outputs": [
        {
          "output_type": "stream",
          "name": "stdout",
          "text": [
            "           id       date  commodity_group  commodity_id  \\\n",
            "0     6092770 2022-01-01  Grains & Pulses             1   \n",
            "1     6092898 2022-01-01  Grains & Pulses             2   \n",
            "2     6093000 2022-01-01      Edible Oils             3   \n",
            "3     6093121 2022-01-01           Others             4   \n",
            "4     6093249 2022-01-01  Grains & Pulses             5   \n",
            "...       ...        ...              ...           ...   \n",
            "5077  7154658 2022-10-31       Vegetables            18   \n",
            "5078  7154885 2022-10-31  Grains & Pulses            19   \n",
            "5079  7155350 2022-10-31      Edible Oils            21   \n",
            "5080  7155118 2022-10-31  Grains & Pulses            20   \n",
            "5081  7155564 2022-10-31  Grains & Pulses            22   \n",
            "\n",
            "                   commodity        zone  centre_id      centre  price  Month  \\\n",
            "0               Atta (Wheat)  North Zone        144  Saharanpur     34      1   \n",
            "1                   Gram Dal  North Zone        144  Saharanpur     72      1   \n",
            "2     Groundnut Oil (Packed)  North Zone        144  Saharanpur    182      1   \n",
            "3                        Gur  North Zone        144  Saharanpur     47      1   \n",
            "4                 Masoor Dal  North Zone        144  Saharanpur     96      1   \n",
            "...                      ...         ...        ...         ...    ...    ...   \n",
            "5077                  Tomato  North Zone        144  Saharanpur     36     10   \n",
            "5078           Tur/Arhar Dal  North Zone        144  Saharanpur     99     10   \n",
            "5079      Vanaspati (Packed)  North Zone        144  Saharanpur    170     10   \n",
            "5080                Urad Dal  North Zone        144  Saharanpur    100     10   \n",
            "5081                   Wheat  North Zone        144  Saharanpur     25     10   \n",
            "\n",
            "      Year  \n",
            "0     2022  \n",
            "1     2022  \n",
            "2     2022  \n",
            "3     2022  \n",
            "4     2022  \n",
            "...    ...  \n",
            "5077  2022  \n",
            "5078  2022  \n",
            "5079  2022  \n",
            "5080  2022  \n",
            "5081  2022  \n",
            "\n",
            "[5082 rows x 11 columns]\n"
          ]
        }
      ]
    },
    {
      "cell_type": "code",
      "source": [
        "app = dash.Dash(__name__)\n",
        "app.layout = html.Div([\n",
        "    html.H1('Retail Price and CPI Dashboard'),\n",
        "    html.Div([\n",
        "        html.Label('Select District:'),\n",
        "        dcc.Dropdown(\n",
        "            id='district-dropdown',\n",
        "            options=[{'label': i, 'value': i} for i in data['centre'].unique()],\n",
        "            value=data['centre'].iloc[0]\n",
        "        )\n",
        "    ]),\n",
        "    html.Div([\n",
        "        html.Label('Select Commodity:'),\n",
        "        dcc.Dropdown(\n",
        "            id='commodity-dropdown',\n",
        "            options=[{'label': i, 'value': i} for i in data['commodity'].unique()],\n",
        "            value=data['commodity'].iloc[0]\n",
        "        )\n",
        "    ]),\n",
        "    dcc.Graph(id='price-graph'),\n",
        "    html.Div(id='cpi-output')\n",
        "])\n"
      ],
      "metadata": {
        "id": "op3k_uJcJtdG"
      },
      "execution_count": 8,
      "outputs": []
    },
    {
      "cell_type": "code",
      "source": [
        "@app.callback(\n",
        "    Output('price-graph', 'figure'),\n",
        "    Input('district-dropdown', 'value'),\n",
        "    Input('commodity-dropdown', 'value')\n",
        ")\n",
        "def update_price_graph(district, commodity):\n",
        "    filtered_data = data[(data['centre'] == district) & (data['commodity'] == commodity)]\n",
        "    x = filtered_data['Month'].unique()\n",
        "    y = filtered_data.groupby('Month')['price'].mean().values\n",
        "    fig = {\n",
        "        'data': [{\n",
        "            'x': x,\n",
        "            'y': y,\n",
        "            'type': 'line'\n",
        "        }],\n",
        "        'layout': {\n",
        "            'title': 'Monthly Change in Retail Price',\n",
        "            'xaxis': {'title': 'Month'},\n",
        "            'yaxis': {'title': 'Retail Price'}\n",
        "        }\n",
        "    }\n",
        "    return fig\n",
        "\n",
        "\n",
        "\n"
      ],
      "metadata": {
        "id": "NYRjlqqoJx45"
      },
      "execution_count": 9,
      "outputs": []
    },
    {
      "cell_type": "code",
      "source": [
        "!pip install pyngrok\n"
      ],
      "metadata": {
        "colab": {
          "base_uri": "https://localhost:8080/"
        },
        "id": "5LdhFY_8jYy1",
        "outputId": "9dcc8cd8-b5b0-4358-8144-4763019d14ee"
      },
      "execution_count": 10,
      "outputs": [
        {
          "output_type": "stream",
          "name": "stdout",
          "text": [
            "Looking in indexes: https://pypi.org/simple, https://us-python.pkg.dev/colab-wheels/public/simple/\n",
            "Collecting pyngrok\n",
            "  Downloading pyngrok-5.2.1.tar.gz (761 kB)\n",
            "\u001b[2K     \u001b[90m━━━━━━━━━━━━━━━━━━━━━━━━━━━━━━━━━━━━━━━\u001b[0m \u001b[32m761.3/761.3 KB\u001b[0m \u001b[31m7.6 MB/s\u001b[0m eta \u001b[36m0:00:00\u001b[0m\n",
            "\u001b[?25h  Preparing metadata (setup.py) ... \u001b[?25l\u001b[?25hdone\n",
            "Requirement already satisfied: PyYAML in /usr/local/lib/python3.8/dist-packages (from pyngrok) (6.0)\n",
            "Building wheels for collected packages: pyngrok\n",
            "  Building wheel for pyngrok (setup.py) ... \u001b[?25l\u001b[?25hdone\n",
            "  Created wheel for pyngrok: filename=pyngrok-5.2.1-py3-none-any.whl size=19792 sha256=77fe9626dc200da93d8c168787cf02f4e8ed80e492b764e7d5dd3241409108b5\n",
            "  Stored in directory: /root/.cache/pip/wheels/5d/f2/70/526da675d32f17577ec47ac4c663084efe39d47c826b6c3bb1\n",
            "Successfully built pyngrok\n",
            "Installing collected packages: pyngrok\n",
            "Successfully installed pyngrok-5.2.1\n"
          ]
        }
      ]
    },
    {
      "cell_type": "code",
      "source": [
        "from pyngrok import ngrok\n",
        "public_url = ngrok.connect(port='8050')\n",
        "print(public_url)\n"
      ],
      "metadata": {
        "colab": {
          "base_uri": "https://localhost:8080/"
        },
        "id": "1Jd9iLwCnDp7",
        "outputId": "950d0a5b-7d8c-4b47-d1e3-f0a278a44365"
      },
      "execution_count": 11,
      "outputs": [
        {
          "output_type": "stream",
          "name": "stdout",
          "text": [
            "NgrokTunnel: \"http://e33d-35-229-42-248.ngrok.io\" -> \"http://localhost:80\"\n"
          ]
        }
      ]
    },
    {
      "cell_type": "code",
      "source": [
        "@app.callback(\n",
        "    Output('cpi-output', 'children'),\n",
        "    Input('district-dropdown', 'value')\n",
        ")\n"
      ],
      "metadata": {
        "id": "_c-AFlzONi6y"
      },
      "execution_count": null,
      "outputs": []
    },
    {
      "cell_type": "code",
      "source": [
        "def calculate_cpi(district):\n",
        "    filtered_data = data[data['centre'] == district]\n",
        "    start_date = pd.to_datetime(filtered_data['date']).min()\n",
        "    end_date = pd.to_datetime(filtered_data['date']).max()\n",
        "    cpi_data = pd.DataFrame({'Date': pd.date_range(start_date, end_date, freq='M')})\n",
        "    cpi_data['CPI'] = cpi_data['Date'].apply(lambda x: np.average(filtered_data[filtered_data['Date'].str.startswith(str(x.year))]['CPI']))\n",
        "    cpi = np.average(cpi_data['CPI'])\n",
        "    return f'CPI of {district} for the year is {cpi:.2f}'"
      ],
      "metadata": {
        "id": "cfwrKnvRNcJl"
      },
      "execution_count": null,
      "outputs": []
    }
  ]
}